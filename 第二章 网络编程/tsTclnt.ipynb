{
 "cells": [
  {
   "cell_type": "code",
   "execution_count": 18,
   "metadata": {},
   "outputs": [
    {
     "name": "stdout",
     "output_type": "stream",
     "text": [
      "> Hello, this is my first app!\n",
      "[Tue Nov 26 18:12:43 2019] Hello, this is my first app!\n",
      "> \n"
     ]
    }
   ],
   "source": [
    "from socket import * \n",
    "\n",
    "HOST = '127.0.0.1'\n",
    "PORT = 21567\n",
    "BUFSIZ = 1024\n",
    "ADDR = (HOST, PORT)\n",
    "\n",
    "tcpClisock = socket(AF_INET, SOCK_STREAM) # 创建TCP套接字\n",
    "tcpClisock.connect(ADDR) # 与服务器端一致\n",
    "\n",
    "while True:\n",
    "    data = input('> ')\n",
    "    data = data.encode() # 将数据编码\n",
    "    if not data:\n",
    "        break\n",
    "    tcpClisock.send(data) # 向服务器发送数据\n",
    "    data = tcpClisock.recv(BUFSIZ).decode() # 收到的数据解码\n",
    "    if not data:\n",
    "        break\n",
    "    print(data)\n",
    "    \n",
    "tcpClisock.close()"
   ]
  },
  {
   "cell_type": "code",
   "execution_count": null,
   "metadata": {},
   "outputs": [],
   "source": []
  }
 ],
 "metadata": {
  "kernelspec": {
   "display_name": "Python 3",
   "language": "python",
   "name": "python3"
  },
  "language_info": {
   "codemirror_mode": {
    "name": "ipython",
    "version": 3
   },
   "file_extension": ".py",
   "mimetype": "text/x-python",
   "name": "python",
   "nbconvert_exporter": "python",
   "pygments_lexer": "ipython3",
   "version": "3.6.5"
  }
 },
 "nbformat": 4,
 "nbformat_minor": 2
}
