{
 "cells": [
  {
   "cell_type": "code",
   "execution_count": 1,
   "metadata": {},
   "outputs": [],
   "source": [
    "from socket import *"
   ]
  },
  {
   "cell_type": "code",
   "execution_count": null,
   "metadata": {},
   "outputs": [
    {
     "name": "stdout",
     "output_type": "stream",
     "text": [
      ">Hello!\n",
      "[Tue Nov 26 19:50:03 2019] Hello!\n",
      ">THIS......\n",
      "[Tue Nov 26 19:50:11 2019] THIS......\n",
      ">你好\n",
      "[Tue Nov 26 19:50:19 2019] 你好\n"
     ]
    }
   ],
   "source": [
    "HOST = 'localhost'\n",
    "PORT = 21568\n",
    "BUFSIZ = 1024\n",
    "ADDR = (HOST, PORT)\n",
    "\n",
    "udpCliSock = socket(AF_INET, SOCK_DGRAM)\n",
    "\n",
    "while True:\n",
    "    data = input('>').encode()\n",
    "    if not data:\n",
    "        break\n",
    "    udpCliSock.sendto(data, ADDR)\n",
    "    data, ADDR = udpCliSock.recvfrom(BUFSIZ)\n",
    "    if not data:\n",
    "        break\n",
    "    print(data.decode())\n",
    "udpCliSock.close()"
   ]
  },
  {
   "cell_type": "code",
   "execution_count": null,
   "metadata": {},
   "outputs": [],
   "source": []
  }
 ],
 "metadata": {
  "kernelspec": {
   "display_name": "Python 3",
   "language": "python",
   "name": "python3"
  },
  "language_info": {
   "codemirror_mode": {
    "name": "ipython",
    "version": 3
   },
   "file_extension": ".py",
   "mimetype": "text/x-python",
   "name": "python",
   "nbconvert_exporter": "python",
   "pygments_lexer": "ipython3",
   "version": "3.6.5"
  }
 },
 "nbformat": 4,
 "nbformat_minor": 2
}
