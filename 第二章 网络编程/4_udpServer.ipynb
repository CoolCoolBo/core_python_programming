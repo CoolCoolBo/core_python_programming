{
 "cells": [
  {
   "cell_type": "code",
   "execution_count": 1,
   "metadata": {},
   "outputs": [],
   "source": [
    "from socket import *\n",
    "from time import ctime"
   ]
  },
  {
   "cell_type": "code",
   "execution_count": null,
   "metadata": {},
   "outputs": [
    {
     "name": "stdout",
     "output_type": "stream",
     "text": [
      "waiting for message...\n",
      "...received from and returned to: ('127.0.0.1', 54704)\n",
      "waiting for message...\n",
      "...received from and returned to: ('127.0.0.1', 54704)\n",
      "waiting for message...\n",
      "...received from and returned to: ('127.0.0.1', 54704)\n",
      "waiting for message...\n"
     ]
    }
   ],
   "source": [
    "HOST = ''\n",
    "PORT = 21568\n",
    "BUFSIZ = 1024\n",
    "ADDR = (HOST, PORT)\n",
    "\n",
    "udpSerSock = socket(AF_INET, SOCK_DGRAM)\n",
    "udpSerSock.bind(ADDR)\n",
    "\n",
    "while True:\n",
    "    print('waiting for message...')\n",
    "    data, addr = udpSerSock.recvfrom(BUFSIZ)\n",
    "    udpSerSock.sendto(('[%s] %s' % (ctime(), data.decode())).encode(), addr)\n",
    "    print('...received from and returned to:', addr)\n",
    "\n",
    "udpSerSock.close()"
   ]
  },
  {
   "cell_type": "code",
   "execution_count": null,
   "metadata": {},
   "outputs": [],
   "source": []
  }
 ],
 "metadata": {
  "kernelspec": {
   "display_name": "Python 3",
   "language": "python",
   "name": "python3"
  },
  "language_info": {
   "codemirror_mode": {
    "name": "ipython",
    "version": 3
   },
   "file_extension": ".py",
   "mimetype": "text/x-python",
   "name": "python",
   "nbconvert_exporter": "python",
   "pygments_lexer": "ipython3",
   "version": "3.6.5"
  }
 },
 "nbformat": 4,
 "nbformat_minor": 2
}
