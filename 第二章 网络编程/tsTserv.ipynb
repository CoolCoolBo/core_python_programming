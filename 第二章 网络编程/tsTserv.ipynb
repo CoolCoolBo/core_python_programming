{
 "cells": [
  {
   "cell_type": "code",
   "execution_count": 10,
   "metadata": {},
   "outputs": [],
   "source": [
    "from socket import *\n",
    "from time import ctime"
   ]
  },
  {
   "cell_type": "code",
   "execution_count": 3,
   "metadata": {},
   "outputs": [],
   "source": [
    "tcpSock = socket(AF_INET, SOCK_STREAM)\n",
    "udpSock = socket(AF_INET, SOCK_DGRAM)"
   ]
  },
  {
   "cell_type": "code",
   "execution_count": null,
   "metadata": {},
   "outputs": [
    {
     "name": "stdout",
     "output_type": "stream",
     "text": [
      "waiting for connection...\n"
     ]
    }
   ],
   "source": [
    "HOST = ''\n",
    "PORT = 21568\n",
    "BUFSIZ = 1024\n",
    "ADDR = (HOST, PORT)\n",
    "tcpSerSock = socket(AF_INET, SOCK_STREAM)\n",
    "tcpSerSock.bind(ADDR)\n",
    "tcpSerSock.listen(5)\n",
    "\n",
    "while True:\n",
    "    print('waiting for connection...')8888888\n",
    "    tcpCliSock, addr = tcpSerSock.accept()\n",
    "    print('...connected from:', addr)\n",
    "    \n",
    "    # 使用新的套接字来与客户端进行通信；每收到一次连接，就会创建一个新的套接字。\n",
    "    while True:\n",
    "        data = tcpCliSock.recv(BUFSIZ).decode() # 对收到的数据进行解码\n",
    "        if not data:\n",
    "            break\n",
    "        tcpCliSock.send(('[%s] %s' % (ctime(), data)).encode()) # 将待发送的数据进行编码\n",
    "    tcpCliSock.close()\n",
    "    \n",
    "tcpSerSock.close()"
   ]
  },
  {
   "cell_type": "code",
   "execution_count": null,
   "metadata": {},
   "outputs": [],
   "source": []
  }
 ],
 "metadata": {
  "kernelspec": {
   "display_name": "Python 3",
   "language": "python",
   "name": "python3"
  },
  "language_info": {
   "codemirror_mode": {
    "name": "ipython",
    "version": 3
   },
   "file_extension": ".py",
   "mimetype": "text/x-python",
   "name": "python",
   "nbconvert_exporter": "python",
   "pygments_lexer": "ipython3",
   "version": "3.6.5"
  }
 },
 "nbformat": 4,
 "nbformat_minor": 2
}
